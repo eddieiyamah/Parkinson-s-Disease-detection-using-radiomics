{
 "cells": [
  {
   "cell_type": "markdown",
   "metadata": {
    "id": "wX4kvp_UlJ3k"
   },
   "source": [
    "# COMBINED RADIOMIC FEATURES"
   ]
  },
  {
   "cell_type": "markdown",
   "metadata": {
    "id": "GzofsQJTdWfB"
   },
   "source": [
    "## Installation and importation or third party packages,libraries and dependencies"
   ]
  },
  {
   "cell_type": "markdown",
   "metadata": {
    "id": "GNX_YEGaeGyq"
   },
   "source": [
    "##### Before training the separate the models, One needs to ensure that the necessary libraries are packages are installed. Pyradiomics was used to extract features from the functional Magnetic Resonance Imgaging (fMRI) files. Scikit-learn libraries were used to create the models. Setting various parameters to yield results and performing performance metrics. "
   ]
  },
  {
   "cell_type": "code",
   "execution_count": null,
   "metadata": {
    "colab": {
     "base_uri": "https://localhost:8080/"
    },
    "id": "_gU3Fn1j_GuS",
    "outputId": "3a83b6d7-525f-4c0e-e928-b8e1d100bd5b"
   },
   "outputs": [],
   "source": [
    "!pip install Pyradiomics"
   ]
  },
  {
   "cell_type": "code",
   "execution_count": null,
   "metadata": {
    "id": "DppIY1F77atQ"
   },
   "outputs": [],
   "source": [
    "import os\n",
    "import SimpleITK as sitk\n",
    "import radiomics\n",
    "from radiomics import featureextractor"
   ]
  },
  {
   "cell_type": "code",
   "execution_count": 1,
   "metadata": {
    "id": "CIPWWokeCOZV"
   },
   "outputs": [
    {
     "name": "stderr",
     "output_type": "stream",
     "text": [
      "2023-05-25 00:06:36.896401: I tensorflow/core/platform/cpu_feature_guard.cc:193] This TensorFlow binary is optimized with oneAPI Deep Neural Network Library (oneDNN) to use the following CPU instructions in performance-critical operations:  SSE4.1 SSE4.2\n",
      "To enable them in other operations, rebuild TensorFlow with the appropriate compiler flags.\n"
     ]
    }
   ],
   "source": [
    "import pandas as pd\n",
    "import pandas as pd\n",
    "import numpy as np\n",
    "from sklearn.model_selection import train_test_split\n",
    "from sklearn.preprocessing import MinMaxScaler\n",
    "from sklearn.feature_selection import RFE\n",
    "from sklearn.svm import SVC\n",
    "from sklearn.metrics import confusion_matrix, roc_curve, roc_auc_score\n",
    "import tensorflow as tf\n",
    "import matplotlib.pyplot as plt\n",
    "import seaborn as sns\n",
    "from sklearn.svm import SVC\n",
    "from sklearn.preprocessing import MinMaxScaler\n",
    "from sklearn.model_selection import train_test_split\n",
    "from sklearn.metrics import accuracy_score\n",
    "from sklearn.metrics import accuracy_score, precision_score, recall_score, f1_score, roc_auc_score\n",
    "from sklearn.metrics import confusion_matrix, roc_curve, roc_auc_score\n",
    "import matplotlib.pyplot as plt\n",
    "import seaborn as sns"
   ]
  },
  {
   "cell_type": "markdown",
   "metadata": {
    "id": "7ujj5FmQhetu"
   },
   "source": [
    "## Feature Extraction"
   ]
  },
  {
   "cell_type": "code",
   "execution_count": null,
   "metadata": {
    "colab": {
     "base_uri": "https://localhost:8080/"
    },
    "id": "ZBsXet7a_nS5",
    "outputId": "b646ed20-3276-4afe-d883-cb39ab18dfee"
   },
   "outputs": [],
   "source": [
    "# To load the ROI mask of each fMRI image\n",
    "roi_path = \"image43_mask2.nii\"\n",
    "roi_image = sitk.ReadImage(roi_path)\n",
    "\n",
    "# Initiating the the Pyradiomics extractor\n",
    "extractor = radiomics.featureextractor.RadiomicsFeatureExtractor()\n",
    "\n",
    "\n",
    "# Extracting the features from the ROI mask to a dictionary\n",
    "result = extractor.execute(roi_image,'image43_mask2.nii' ) \n",
    "\n"
   ]
  },
  {
   "cell_type": "code",
   "execution_count": null,
   "metadata": {
    "colab": {
     "base_uri": "https://localhost:8080/"
    },
    "id": "u96jngcABf5X",
    "outputId": "ddb89588-6d9c-4bbd-d3f9-273a6669f320"
   },
   "outputs": [],
   "source": [
    "# Concatenating the results and printing the dictionary in an orderly manner\n",
    "print (\"result type:\") , type(result)\n",
    "print (\"\")\n",
    "print (\"calculated features\")\n",
    "for key, value in result.items():\n",
    "    print (\"\\t\", key, \":\", value)"
   ]
  },
  {
   "cell_type": "code",
   "execution_count": null,
   "metadata": {
    "colab": {
     "base_uri": "https://localhost:8080/"
    },
    "id": "MsgRuPG0BkSU",
    "outputId": "eeff52f3-5ede-4ef4-e013-0e46fdb0b022"
   },
   "outputs": [],
   "source": [
    "df = pd.DataFrame.from_dict(result, orient='index', columns=['Value'])\n",
    "\n",
    "print (df)"
   ]
  },
  {
   "cell_type": "code",
   "execution_count": null,
   "metadata": {
    "colab": {
     "base_uri": "https://localhost:8080/"
    },
    "id": "fkp39sLDBriY",
    "outputId": "0c9fa5d0-d38b-414f-db61-636e68a62b77"
   },
   "outputs": [],
   "source": [
    "pd.set_option('display.max_rows', None)\n",
    "pd.set_option('display.max_columns', None)\n",
    "\n",
    "\n",
    "print (df)"
   ]
  },
  {
   "cell_type": "code",
   "execution_count": null,
   "metadata": {
    "id": "R0ed4EbHBwIY"
   },
   "outputs": [],
   "source": [
    "df.index = df.index.str.replace('original_', '')"
   ]
  },
  {
   "cell_type": "code",
   "execution_count": null,
   "metadata": {
    "id": "-BuCz_eKB1_p"
   },
   "outputs": [],
   "source": [
    "df.to_csv('output43.csv')"
   ]
  },
  {
   "cell_type": "markdown",
   "metadata": {
    "id": "FHf4L2g4h_qi"
   },
   "source": [
    "## Loading the extracted radiomics feature data"
   ]
  },
  {
   "cell_type": "code",
   "execution_count": null,
   "metadata": {
    "id": "xHnGEEb0CTE1"
   },
   "outputs": [],
   "source": [
    "# Loading the data from the CSV file\n",
    "data = pd.read_csv('Combined_radiomics.csv')\n",
    "\n",
    "# Excluding the first column (patient ID)\n",
    "data = data.iloc[:, 1:]\n",
    "\n",
    "# Separating the features (X) and the labels (y)\n",
    "X = data.iloc[:, :-1].values\n",
    "y = data.iloc[:, -1].values\n",
    "\n",
    "# Splitting the data into training and testing sets\n",
    "X_train, X_test, y_train, y_test = train_test_split(X, y, test_size=0.2, random_state= 42)\n",
    "\n",
    "\n"
   ]
  },
  {
   "cell_type": "markdown",
   "metadata": {
    "id": "iKEXsYyTjYg-"
   },
   "source": [
    "## Normalisation (min-max)"
   ]
  },
  {
   "cell_type": "code",
   "execution_count": null,
   "metadata": {
    "id": "yaZ_3NcRjNTh"
   },
   "outputs": [],
   "source": [
    "# Apply min-max normalization to scale the features\n",
    "scaler = MinMaxScaler()\n",
    "X_train = scaler.fit_transform(X_train)\n",
    "X_test = scaler.transform(X_test)\n",
    "\n"
   ]
  },
  {
   "cell_type": "markdown",
   "metadata": {
    "id": "VFuwIkYsjqKH"
   },
   "source": [
    "## Feature selection and building the SVM model with the combined radiomic features "
   ]
  },
  {
   "cell_type": "code",
   "execution_count": null,
   "metadata": {
    "colab": {
     "base_uri": "https://localhost:8080/"
    },
    "id": "9H3-A6_ukA2d",
    "outputId": "ff68a995-1836-4f52-b14a-c74193c41697"
   },
   "outputs": [],
   "source": [
    "# Create an SVM classifier\n",
    "svm = SVC(kernel='linear')\n",
    "\n",
    "# Train the SVM classifier\n",
    "svm.fit(X_train, y_train)\n",
    "\n",
    "# Get the feature importances (coefficients)\n",
    "feature_importances = abs(svm.coef_[0])\n",
    "\n",
    "# Sort the features based on their importance in descending order\n",
    "sorted_indices = feature_importances.argsort()[::-1]\n",
    "\n",
    "# Select the top-k features. In this study, the top 50 features were selected. \n",
    "k = 50\n",
    "\n",
    "selected_features = sorted_indices[:k]\n",
    "\n",
    "# Extract the selected features from the training and testing sets\n",
    "X_train_selected = X_train[:, selected_features]\n",
    "X_test_selected = X_test[:, selected_features]\n",
    "\n",
    "# Train the SVM classifier on the selected features\n",
    "svm_selected = SVC()\n",
    "svm_selected.fit(X_train_selected, y_train)\n",
    "\n",
    "# Predict the labels for the test set\n",
    "y_pred = svm_selected.predict(X_test_selected)\n",
    "\n",
    "# Calculate the accuracy of the model\n",
    "accuracy = accuracy_score(y_test, y_pred)\n",
    "\n",
    "precision = precision_score(y_test, y_pred)\n",
    "recall = recall_score(y_test, y_pred)\n",
    "f1 = f1_score(y_test, y_pred)\n",
    "roc_auc = roc_auc_score(y_test, y_pred)\n",
    "\n",
    "\n",
    "print(\"Accuracy:\", accuracy)\n",
    "print(\"Precision:\", precision)\n",
    "print(\"Recall:\", recall)\n",
    "print(\"F1 Score:\", f1)\n",
    "print(\"ROC AUC Score:\", roc_auc)"
   ]
  },
  {
   "cell_type": "code",
   "execution_count": null,
   "metadata": {
    "colab": {
     "base_uri": "https://localhost:8080/",
     "height": 1000
    },
    "id": "2mFPOIxjCiwN",
    "outputId": "22bca1af-3601-46d6-f5bf-3d022172fee7"
   },
   "outputs": [],
   "source": [
    "\n",
    "# Calculate the confusion matrix\n",
    "cm = confusion_matrix(y_test, y_pred)\n",
    "\n",
    "# Plot the confusion matrix\n",
    "plt.figure(figsize=(8, 6))\n",
    "sns.heatmap(cm, annot=True, cmap=\"Blues\", fmt=\"d\", cbar=False)\n",
    "plt.xlabel('Predicted')\n",
    "plt.ylabel('Actual')\n",
    "plt.title('Confusion Matrix')\n",
    "plt.show()\n",
    "\n",
    "# Calculate the AUC score\n",
    "auc_score = roc_auc_score(y_test, y_pred)\n",
    "\n",
    "# Generate the ROC curve\n",
    "fpr, tpr, thresholds = roc_curve(y_test, y_pred)\n",
    "\n",
    "# Plot the ROC curve\n",
    "plt.figure(figsize=(8, 6))\n",
    "plt.plot(fpr, tpr, label='ROC Curve (AUC = {:.2f})'.format(auc_score))\n",
    "plt.plot([0, 1], [0, 1], 'k--')\n",
    "plt.xlabel('False Positive Rate')\n",
    "plt.ylabel('True Positive Rate')\n",
    "plt.title('Receiver Operating Characteristic')\n",
    "plt.legend(loc='lower right')\n",
    "plt.show()"
   ]
  },
  {
   "cell_type": "markdown",
   "metadata": {
    "id": "IK-5SXtTkgWU"
   },
   "source": [
    "## Artificial Neural Network (ANN) with the combined radiomic features"
   ]
  },
  {
   "cell_type": "code",
   "execution_count": null,
   "metadata": {
    "colab": {
     "base_uri": "https://localhost:8080/",
     "height": 1000
    },
    "id": "vUldpnUsCvpe",
    "outputId": "ecbe47ec-1811-4310-e00b-dd98043ecc38"
   },
   "outputs": [],
   "source": [
    "# Load the data from the CSV file\n",
    "data2 = pd.read_csv('Combined_radiomics.csv')\n",
    "\n",
    "# Exclude the first column (patient ID)\n",
    "datareal = data2.iloc[:, 1:]\n",
    "\n",
    "\n",
    "# Separate the features (X) and the labels (y)\n",
    "X2 = datareal.iloc[:, :-1].values\n",
    "y2 = datareal.iloc[:, -1].values\n",
    "\n",
    "# Split the data into training and testing sets\n",
    "X2_train, X2_test, y2_train, y2_test = train_test_split(X2, y2, test_size= 0.2, random_state=40)\n",
    "\n",
    "# Apply min-max normalization to scale the features\n",
    "scaler = MinMaxScaler()\n",
    "Xreal_train = scaler.fit_transform(X2_train)\n",
    "Xreal_test = scaler.transform(X2_test)\n",
    "\n",
    "# Perform feature selection using RFE\n",
    "estimator = SVC(kernel='linear')\n",
    "rfe = RFE(estimator, n_features_to_select= 50)\n",
    "X_train_selected = rfe.fit_transform(Xreal_train, y2_train)\n",
    "X_test_selected = rfe.transform(Xreal_test)\n",
    "\n",
    "# Define the ANN model architecture\n",
    "model = tf.keras.models.Sequential([\n",
    "    tf.keras.layers.Dense(64, activation='relu'),\n",
    "    tf.keras.layers.Dense(64, activation='relu'),\n",
    "    tf.keras.layers.Dense(1, activation='sigmoid')\n",
    "])\n",
    "\n",
    "# Compile the model\n",
    "model.compile(optimizer='adam',\n",
    "              loss='binary_crossentropy',\n",
    "              metrics=['accuracy'])\n",
    "\n",
    "# Train the model\n",
    "model.fit(X_train_selected, y2_train, epochs=50, batch_size=32)\n",
    "\n",
    "# Predict the labels for the test set\n",
    "y_pred_prob = model.predict(X_test_selected)\n",
    "y_pred2 = np.round(y_pred_prob)\n",
    "\n",
    "# Calculate the confusion matrix\n",
    "cm2 = confusion_matrix(y2_test, y_pred2)\n",
    "\n",
    "# Plot the confusion matrix\n",
    "plt.figure(figsize=(8, 6))\n",
    "sns.heatmap(cm2, annot=True, cmap=\"Blues\", fmt=\"d\", cbar=False)\n",
    "plt.xlabel('Predicted')\n",
    "plt.ylabel('Actual')\n",
    "plt.title('Confusion Matrix')\n",
    "plt.show()\n",
    "\n",
    "# Calculate the AUC score\n",
    "auc_score2 = roc_auc_score(y2_test, y_pred_prob)\n",
    "\n",
    "# Generate the ROC curve\n",
    "fpr2, tpr2, thresholds = roc_curve(y2_test, y_pred_prob)\n",
    "\n",
    "# Plot the ROC curve\n",
    "plt.figure(figsize=(8, 6))\n",
    "plt.plot(fpr2, tpr2, label='ROC Curve (AUC = {:.2f})'.format(auc_score2))\n",
    "plt.plot([0, 1], [0, 1], 'k--')\n",
    "plt.xlabel('False Positive Rate')\n",
    "plt.ylabel('True Positive Rate')\n",
    "plt.title('Receiver Operating Characteristic')\n",
    "plt.legend(loc='lower right')\n",
    "plt.show()\n",
    "\n",
    "# Calculate other performance metrics\n",
    "accuracy2 = (cm2[0, 0] + cm2[1, 1]) / np.sum(cm2)\n",
    "precision2 = cm2[1, 1] / (cm2[1, 1] + cm2[0, 1])\n",
    "recall2 = cm2[1, 1] / (cm2[1, 1] + cm2[1, 0])\n",
    "f1_score2 = 2 * (precision2 * recall2) / (precision2 + recall2)\n",
    "\n",
    "print('Accuracy:', accuracy2)\n",
    "print('Precision:', precision2)\n",
    "print('Recall:', recall2)\n",
    "print('F1-Score:', f1_score2)\n"
   ]
  },
  {
   "cell_type": "markdown",
   "metadata": {
    "id": "bZ8cNuVkLljD"
   },
   "source": [
    "# SHAPE RADIOMIC FEATURES\n",
    "\n",
    "### Two supervised learning algorithms (SVM and ANN) were trained on only shape features and without feature selection."
   ]
  },
  {
   "cell_type": "markdown",
   "metadata": {
    "id": "uw2hBo4NlusF"
   },
   "source": [
    "## SVM"
   ]
  },
  {
   "cell_type": "code",
   "execution_count": null,
   "metadata": {
    "colab": {
     "base_uri": "https://localhost:8080/"
    },
    "id": "_TnZAaGHLlPO",
    "outputId": "ec026778-9aa1-456e-abb9-34acd97555ea"
   },
   "outputs": [],
   "source": [
    "# Load the data from the CSV file\n",
    "data3 = pd.read_csv('Shape radiomic features.csv')\n",
    "\n",
    "# Exclude the first column (patient ID)\n",
    "datasvm2 = data3.iloc[:, 1:]\n",
    "\n",
    "# Separate the features (X) and the labels (y)\n",
    "X3 = datasvm2.iloc[:, :-1].values\n",
    "y3 = datasvm2.iloc[:, -1].values\n",
    "\n",
    "# Split the data into training and testing sets\n",
    "X3_train, X3_test, y3_train, y3_test = train_test_split(X3, y3, test_size=0.2, random_state= 40)\n",
    "\n",
    "# Apply min-max normalization to scale the features\n",
    "scaler3 = MinMaxScaler()\n",
    "X3_train = scaler3.fit_transform(X3_train)\n",
    "X3_test = scaler3.transform(X3_test)\n",
    "\n",
    "# Create an SVM classifier\n",
    "svm3 = SVC(kernel='linear')\n",
    "\n",
    "# Train the SVM classifier\n",
    "svm3.fit(X3_train, y3_train)\n",
    "\n",
    "\n",
    "# Predict the labels for the test set\n",
    "y_pred3 = svm3.predict(X3_test)\n",
    "\n",
    "# Calculate the accuracy of the model\n",
    "accuracy3 = accuracy_score(y3_test, y_pred3)\n",
    "\n",
    "precision3 = precision_score(y3_test, y_pred3)\n",
    "recall3 = recall_score(y3_test, y_pred3)\n",
    "f13 = f1_score(y3_test, y_pred3)\n",
    "roc_auc3 = roc_auc_score(y3_test, y_pred3)\n",
    "\n",
    "\n",
    "print(\"Accuracy:\", accuracy3)\n",
    "print(\"Precision:\", precision3)\n",
    "print(\"Recall:\", recall3)\n",
    "print(\"F1 Score:\", f13)\n",
    "print(\"ROC AUC Score:\", roc_auc3)"
   ]
  },
  {
   "cell_type": "code",
   "execution_count": null,
   "metadata": {
    "colab": {
     "base_uri": "https://localhost:8080/",
     "height": 1000
    },
    "id": "y8ZRqqBrTYwC",
    "outputId": "1a9c4091-61cd-4896-8324-c08880030aec"
   },
   "outputs": [],
   "source": [
    "# Calculate the confusion matrix\n",
    "cm3 = confusion_matrix(y3_test, y_pred3)\n",
    "\n",
    "# Plot the confusion matrix\n",
    "plt.figure(figsize=(8, 6))\n",
    "sns.heatmap(cm3, annot=True, cmap=\"Blues\", fmt=\"d\", cbar=False)\n",
    "plt.xlabel('Predicted')\n",
    "plt.ylabel('Actual')\n",
    "plt.title('Confusion Matrix')\n",
    "plt.show()\n",
    "\n",
    "# Calculate the AUC score\n",
    "auc_score3 = roc_auc_score(y3_test, y_pred3)\n",
    "\n",
    "# Generate the ROC curve\n",
    "fpr3, tpr3, thresholds = roc_curve(y3_test, y_pred3)\n",
    "\n",
    "# Plot the ROC curve\n",
    "plt.figure(figsize=(8, 6))\n",
    "plt.plot(fpr, tpr, label='ROC Curve (AUC = {:.2f})'.format(auc_score3))\n",
    "plt.plot([0, 1], [0, 1], 'k--')\n",
    "plt.xlabel('False Positive Rate')\n",
    "plt.ylabel('True Positive Rate')\n",
    "plt.title('Receiver Operating Characteristic')\n",
    "plt.legend(loc='lower right')\n",
    "plt.show()"
   ]
  },
  {
   "cell_type": "markdown",
   "metadata": {
    "id": "3MuOdNBMl3Xy"
   },
   "source": [
    "## ARTIFICIAL NEURAL NETWORK (ANN)"
   ]
  },
  {
   "cell_type": "code",
   "execution_count": null,
   "metadata": {
    "colab": {
     "base_uri": "https://localhost:8080/",
     "height": 1000
    },
    "id": "cC4rxqGbafWH",
    "outputId": "81a1b983-14fb-47bd-814a-b5913ca5850e"
   },
   "outputs": [],
   "source": [
    "# Load the data from the CSV file\n",
    "data4 = pd.read_csv('Shape radiomic features.csv')\n",
    "\n",
    "# Exclude the first column (patient ID)\n",
    "datareal4 = data4.iloc[:, 1:]\n",
    "\n",
    "\n",
    "# Separate the features (X) and the labels (y)\n",
    "X4 = datareal4.iloc[:, :-1].values\n",
    "y4 = datareal4.iloc[:, -1].values\n",
    "\n",
    "# Split the data into training and testing sets\n",
    "X4_train, X4_test, y4_train, y4_test = train_test_split(X4, y4, test_size= 0.2, random_state=42)\n",
    "\n",
    "# Apply min-max normalization to scale the features\n",
    "scaler4 = MinMaxScaler()\n",
    "Xreal_train4 = scaler4.fit_transform(X4_train)\n",
    "Xreal_test4 = scaler4.transform(X4_test)\n",
    "\n",
    "\n",
    "# Define the ANN model architecture\n",
    "model4 = tf.keras.models.Sequential([\n",
    "    tf.keras.layers.Dense(64, activation='relu'),\n",
    "    tf.keras.layers.Dense(64, activation='relu'),\n",
    "    tf.keras.layers.Dense(1, activation='sigmoid')\n",
    "])\n",
    "\n",
    "# Compile the model\n",
    "model4.compile(optimizer='adam',\n",
    "              loss='binary_crossentropy',\n",
    "              metrics=['accuracy'])\n",
    "\n",
    "# Train the model\n",
    "model4.fit(Xreal_train4, y4_train, epochs=50, batch_size=32)\n",
    "\n",
    "# Predict the labels for the test set\n",
    "y_pred_prob4 = model4.predict(Xreal_test4)\n",
    "y_pred4 = np.round(y_pred_prob4)\n",
    "\n",
    "# Calculate the confusion matrix\n",
    "cm4 = confusion_matrix(y4_test, y_pred4)\n",
    "\n",
    "# Plot the confusion matrix\n",
    "plt.figure(figsize=(8, 6))\n",
    "sns.heatmap(cm4, annot=True, cmap=\"Blues\", fmt=\"d\", cbar=False)\n",
    "plt.xlabel('Predicted')\n",
    "plt.ylabel('Actual')\n",
    "plt.title('Confusion Matrix')\n",
    "plt.show()\n",
    "\n",
    "# Calculate the AUC score\n",
    "auc_score4 = roc_auc_score(y4_test, y_pred_prob4)\n",
    "\n",
    "# Generate the ROC curve\n",
    "fpr4, tpr4, thresholds = roc_curve(y4_test, y_pred_prob4)\n",
    "\n",
    "# Plot the ROC curve\n",
    "plt.figure(figsize=(8, 6))\n",
    "plt.plot(fpr2, tpr2, label='ROC Curve (AUC = {:.2f})'.format(auc_score4))\n",
    "plt.plot([0, 1], [0, 1], 'k--')\n",
    "plt.xlabel('False Positive Rate')\n",
    "plt.ylabel('True Positive Rate')\n",
    "plt.title('Receiver Operating Characteristic')\n",
    "plt.legend(loc='lower right')\n",
    "plt.show()\n",
    "\n",
    "# Calculate other performance metrics\n",
    "accuracy4 = (cm4[0, 0] + cm4[1, 1]) / np.sum(cm4)\n",
    "precision4 = cm4[1, 1] / (cm4[1, 1] + cm4[0, 1])\n",
    "recall4 = cm4[1, 1] / (cm4[1, 1] + cm4[1, 0])\n",
    "f1_score4 = 2 * (precision4 * recall4) / (precision4 + recall4)\n",
    "\n",
    "print('Accuracy:', accuracy4)\n",
    "print('Precision:', precision4)\n",
    "print('Recall:', recall4)\n",
    "print('F1-Score:', f1_score4)\n"
   ]
  }
 ],
 "metadata": {
  "colab": {
   "provenance": []
  },
  "kernelspec": {
   "display_name": "Python 3 (ipykernel)",
   "language": "python",
   "name": "python3"
  },
  "language_info": {
   "codemirror_mode": {
    "name": "ipython",
    "version": 3
   },
   "file_extension": ".py",
   "mimetype": "text/x-python",
   "name": "python",
   "nbconvert_exporter": "python",
   "pygments_lexer": "ipython3",
   "version": "3.10.8"
  }
 },
 "nbformat": 4,
 "nbformat_minor": 1
}
